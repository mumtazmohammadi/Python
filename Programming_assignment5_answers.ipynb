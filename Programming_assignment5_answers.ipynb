{
 "cells": [
  {
   "cell_type": "code",
   "execution_count": 13,
   "id": "d63bf24f",
   "metadata": {},
   "outputs": [
    {
     "name": "stdout",
     "output_type": "stream",
     "text": [
      "Enter the number1 whose LCM is to be found : 5\n",
      "Enter the number2 whose LCM is to be found : 4\n",
      "LCM of  5 , 4 is 20\n"
     ]
    }
   ],
   "source": [
    "#1. Write a Python Program to Find LCM?\n",
    "\n",
    "#Lcm for two numbers\n",
    "\n",
    "def lcm_calc(a,b):\n",
    "    \"\"\"To find LCM of two numbers \"\"\"\n",
    "    if a > b:\n",
    "       big = a\n",
    "    else:\n",
    "       big = b\n",
    "    \n",
    "    while (True):\n",
    "        if big%a == 0 and big%b == 0: #The factor of both numbers\n",
    "           lcm = big\n",
    "           break\n",
    "        big += 1\n",
    "    return (lcm)    \n",
    "\n",
    "a = int(input(\"Enter the number1 whose LCM is to be found : \"))\n",
    "b = int(input(\"Enter the number2 whose LCM is to be found : \"))\n",
    "\n",
    "print (\"LCM of \",a,\",\",b, \"is\",lcm_calc(a,b))\n",
    "    \n",
    "    "
   ]
  },
  {
   "cell_type": "code",
   "execution_count": 22,
   "id": "3498c408",
   "metadata": {},
   "outputs": [
    {
     "name": "stdout",
     "output_type": "stream",
     "text": [
      "Enter the number1 whose LCM is to be found : 2\n",
      "Enter the number2 whose LCM is to be found : 3\n",
      "Enter the number3 whose LCM is to be found : 4\n",
      "Enter the number4 whose LCM is to be found : 5\n",
      "LCM of  2 , 3 , 4 , 5 is 60\n"
     ]
    }
   ],
   "source": [
    "#1. Write a Python Program to Find LCM?\n",
    "\n",
    "#Python program to find LCM using inbuilt math function\n",
    "\n",
    "import math\n",
    "\n",
    "a = int(input(\"Enter the number1 whose LCM is to be found : \"))\n",
    "b = int(input(\"Enter the number2 whose LCM is to be found : \"))\n",
    "c = int(input(\"Enter the number3 whose LCM is to be found : \"))\n",
    "d = int(input(\"Enter the number4 whose LCM is to be found : \"))\n",
    "\n",
    "print (\"LCM of \",a,\",\",b,\",\",c,\",\",d, \"is\",math.lcm(a,b,c,d))\n"
   ]
  },
  {
   "cell_type": "code",
   "execution_count": 19,
   "id": "d6841d53",
   "metadata": {},
   "outputs": [
    {
     "name": "stdout",
     "output_type": "stream",
     "text": [
      "Enter the number1 whose LCM is to be found : 20\n",
      "Enter the number2 whose LCM is to be found : 30\n",
      "HCF of  20 , 30 is 10\n"
     ]
    }
   ],
   "source": [
    "#2. Write a Python Program to Find HCF?\n",
    "\n",
    "\n",
    "# python program to find HCF of two numbers\n",
    "\n",
    "def hcf_calc(a,b):\n",
    "    \n",
    "    while (b):\n",
    "        a,b = b,a%b #As per Euclidian algorithm\n",
    "    return (a)\n",
    "\n",
    "a = int(input(\"Enter the number1 whose LCM is to be found : \"))\n",
    "b = int(input(\"Enter the number2 whose LCM is to be found : \"))\n",
    "\n",
    "print (\"HCF of \",a,\",\",b, \"is\",hcf_calc(a,b))\n",
    "\n",
    "\n"
   ]
  },
  {
   "cell_type": "code",
   "execution_count": 21,
   "id": "1353001b",
   "metadata": {},
   "outputs": [
    {
     "name": "stdout",
     "output_type": "stream",
     "text": [
      "Enter the number1 whose HCF is to be found : 2\n",
      "Enter the number2 whose HCF is to be found : 3\n",
      "Enter the number3 whose HCF is to be found : 4\n",
      "Enter the number4 whose HCF is to be found : 5\n",
      "HCF of  2 , 3 , 4 , 5 is 1\n"
     ]
    }
   ],
   "source": [
    "#1. Write a Python Program to Find HCF?\n",
    "\n",
    "#Python program to find HCF using inbuilt math function\n",
    "\n",
    "import math\n",
    "\n",
    "a = int(input(\"Enter the number1 whose HCF is to be found : \"))\n",
    "b = int(input(\"Enter the number2 whose HCF is to be found : \"))\n",
    "c = int(input(\"Enter the number3 whose HCF is to be found : \"))\n",
    "d = int(input(\"Enter the number4 whose HCF is to be found : \"))\n",
    "\n",
    "print (\"HCF of \",a,\",\",b,\",\",c,\",\",d, \"is\",math.gcd(a,b,c,d))\n"
   ]
  },
  {
   "cell_type": "code",
   "execution_count": 70,
   "id": "913f3200",
   "metadata": {},
   "outputs": [
    {
     "name": "stdout",
     "output_type": "stream",
     "text": [
      "Enter the number whose Binary Value is to be found : 30\n",
      "What type to convert - Binary,Octal,Hexadecimal : Octal\n",
      "036"
     ]
    }
   ],
   "source": [
    "#3. Write a Python Program to Convert Decimal to Binary, Octal and Hexadecimal?\n",
    "\n",
    "#Python program to convert decimal number to Binary or Octal or Hexadecimal\n",
    "\n",
    "def binary(num):\n",
    "    \"\"\"Binary convertor for a decimal number\"\"\"\n",
    "    if num > 1:\n",
    "       binary(num//2) #Binary Division by 2\n",
    "    print(num%2,end='')\n",
    "\n",
    "def Octal(num):\n",
    "    \"\"\"Octal convertor for a decimal number\"\"\"\n",
    "    if num > 1:\n",
    "       Octal(num//8) #Octal Division by 8\n",
    "    print(num%8,end='')\n",
    "\n",
    "def Hexadecimal(num):\n",
    "    \"\"\"Hexadecimal convertor for a decimal number\"\"\"\n",
    "    if num > 1:\n",
    "       Hexadecimal(num//16)\n",
    "    print(num%16,end='')\n",
    "    \n",
    "a = int(input(\"Enter the number whose Binary Value is to be found : \"))\n",
    "b = str(input(\"What type to convert - Binary,Octal,Hexadecimal : \"))\n",
    "\n",
    "if b == \"Binary\":\n",
    "    binary(a)\n",
    "if b == \"Octal\":\n",
    "    Octal(a)\n",
    "if b == \"Hexadecimal\":\n",
    "    Hexadecimal(a)\n",
    "             "
   ]
  },
  {
   "cell_type": "code",
   "execution_count": 79,
   "id": "98af5f5e",
   "metadata": {},
   "outputs": [
    {
     "name": "stdout",
     "output_type": "stream",
     "text": [
      "Enter the character whose ASCII value is to be found : *\n",
      "ASCII value of * is 42\n"
     ]
    }
   ],
   "source": [
    "#4. Write a Python Program To Find ASCII value of a character?\n",
    "\n",
    "#Python program to find ASCII value of entered character\n",
    "a = (input(\"Enter the character whose ASCII value is to be found : \"))\n",
    "\n",
    "print (\"ASCII value of\",a,\"is\",ord(a))\n"
   ]
  },
  {
   "cell_type": "code",
   "execution_count": 117,
   "id": "03561f9d",
   "metadata": {
    "scrolled": true
   },
   "outputs": [
    {
     "name": "stdout",
     "output_type": "stream",
     "text": [
      "Enter the option you want to choose:\n",
      "1.Addition\n",
      "2.Subtraction\n",
      "3.Multiplication\n",
      "4.Division\n",
      "\n",
      "Enter option of Mathematical operation : 5\n",
      "Enter a valid Option\n"
     ]
    }
   ],
   "source": [
    "#5. Write a Python Program to Make a Simple Calculator with 4 basic mathematical operations?\n",
    "\n",
    "#Python program to make a simple calculator with 4 mathematical operations\n",
    "a,b = 0,0\n",
    "\n",
    "def add(a,b):\n",
    "    \"\"\"Addition of numbers given\"\"\"\n",
    "    print(\"Addition of\" ,a,\",\",b,\"is\",a+b)\n",
    "\n",
    "def Sub(a,b):\n",
    "    \"\"\"Subtraction of numbers given\"\"\"\n",
    "    print(\"Subtraction of\" ,a,\",\",b,\"is\",a-b)\n",
    "        \n",
    "def Multiply(a,b):\n",
    "    \"\"\"Multiplication of numbers given\"\"\"\n",
    "    print(\"Multiplication of\" ,a,\",\",b,\"is\",a*b)\n",
    "    \n",
    "def Divide(a,b):\n",
    "    \"\"\"Division of numbers given\"\"\"\n",
    "    print(\"Division of\" ,a,\"by\",b,\"is\",a/b)   \n",
    "\n",
    "    \n",
    "print (\"Enter the option you want to choose:\\n\"\\\n",
    "       \"1.Addition\\n\"\\\n",
    "       \"2.Subtraction\\n\"\\\n",
    "       \"3.Multiplication\\n\"\\\n",
    "       \"4.Division\\n\")\n",
    "Option = int(input(\"Enter option of Mathematical operation : \"))\n",
    "\n",
    "if Option == 1 or Option == 2 or Option == 3 or Option == 4:\n",
    "    a = int(input(\"Enter the first number                 : \"))\n",
    "    b = int(input(\"Enter the second number                : \"))\n",
    "    \n",
    "if Option == 1:\n",
    "    add(a,b)\n",
    "elif Option == 2:\n",
    "    Sub(a,b)\n",
    "elif Option == 3:\n",
    "    Multiply(a,b)\n",
    "elif Option == 4:\n",
    "    Divide(a,b)\n",
    "else:\n",
    "    print(\"Enter a valid Option\")\n",
    "\n"
   ]
  }
 ],
 "metadata": {
  "kernelspec": {
   "display_name": "Python 3 (ipykernel)",
   "language": "python",
   "name": "python3"
  },
  "language_info": {
   "codemirror_mode": {
    "name": "ipython",
    "version": 3
   },
   "file_extension": ".py",
   "mimetype": "text/x-python",
   "name": "python",
   "nbconvert_exporter": "python",
   "pygments_lexer": "ipython3",
   "version": "3.9.12"
  }
 },
 "nbformat": 4,
 "nbformat_minor": 5
}
