{
 "cells": [
  {
   "cell_type": "code",
   "execution_count": 6,
   "id": "be790143",
   "metadata": {},
   "outputs": [
    {
     "name": "stdout",
     "output_type": "stream",
     "text": [
      "Hello python\n"
     ]
    }
   ],
   "source": [
    "#1. Write a Python program to print \"Hello Python\"?\n",
    "\n",
    "#Python program to print \"Hello Python\"\n",
    "\n",
    "print(\"Hello python\")\n"
   ]
  },
  {
   "cell_type": "code",
   "execution_count": 30,
   "id": "7a360e80",
   "metadata": {},
   "outputs": [
    {
     "name": "stdout",
     "output_type": "stream",
     "text": [
      "Addition of a and b is :  5\n",
      "Division of a and b is :  0.6666666666666666\n"
     ]
    }
   ],
   "source": [
    "#2. Write a Python program to do arithmetical operations addition and division.?\n",
    "\n",
    "#Python program to perform addition and division of a,b\n",
    "\n",
    "a = 2\n",
    "b = 3\n",
    "c = a + b\n",
    "d = a/b\n",
    "\n",
    "print (\"Addition of a and b is : \" , c)\n",
    "print(\"Division of a and b is : \" , d)"
   ]
  },
  {
   "cell_type": "code",
   "execution_count": 31,
   "id": "b740a669",
   "metadata": {},
   "outputs": [
    {
     "name": "stdout",
     "output_type": "stream",
     "text": [
      "Area of triangle is : 3.0 Sq units\n"
     ]
    }
   ],
   "source": [
    "# 3. Write a Python program to find the area of a triangle?\n",
    "\n",
    "#Python program to find area of a triangle\n",
    "\n",
    "breadth = 2 \n",
    "height  = 3\n",
    "Area = (1/2)*breadth*height\n",
    "\n",
    "print (\"Area of triangle is :\" , Area, \"Sq units\")"
   ]
  },
  {
   "cell_type": "code",
   "execution_count": 32,
   "id": "432916fd",
   "metadata": {},
   "outputs": [
    {
     "name": "stdout",
     "output_type": "stream",
     "text": [
      "Swapped value of a is : 2\n",
      "Swapped value of b is : 3\n"
     ]
    }
   ],
   "source": [
    "# 4. Write a Python program to swap two variables?\n",
    "\n",
    "a = 3\n",
    "b = 2\n",
    "c = a\n",
    "a = b\n",
    "b = c\n",
    "\n",
    "print (\"Swapped value of a is :\" , a)\n",
    "print (\"Swapped value of b is :\" , b)\n"
   ]
  },
  {
   "cell_type": "code",
   "execution_count": 33,
   "id": "f01768c0",
   "metadata": {},
   "outputs": [
    {
     "name": "stdout",
     "output_type": "stream",
     "text": [
      "Random number is :  0.015571679569351793\n"
     ]
    }
   ],
   "source": [
    "# 5. Write a Python program to generate a random number?\n",
    "\n",
    "# Below program returns random numner every time its executed\n",
    "\n",
    "import random  #importing random class to genearte random number\n",
    "\n",
    "a = random.random()  \n",
    "\n",
    "print(\"Random number is : \" ,a)  "
   ]
  }
 ],
 "metadata": {
  "kernelspec": {
   "display_name": "Python 3 (ipykernel)",
   "language": "python",
   "name": "python3"
  },
  "language_info": {
   "codemirror_mode": {
    "name": "ipython",
    "version": 3
   },
   "file_extension": ".py",
   "mimetype": "text/x-python",
   "name": "python",
   "nbconvert_exporter": "python",
   "pygments_lexer": "ipython3",
   "version": "3.9.12"
  }
 },
 "nbformat": 4,
 "nbformat_minor": 5
}
