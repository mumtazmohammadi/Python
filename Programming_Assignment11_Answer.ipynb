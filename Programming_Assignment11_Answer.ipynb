{
 "cells": [
  {
   "cell_type": "code",
   "execution_count": 1,
   "id": "4fcd129e",
   "metadata": {},
   "outputs": [
    {
     "name": "stdout",
     "output_type": "stream",
     "text": [
      "Enter length of the string to be returned : 6\n",
      "Words in input string which are more than 6 size long are :  ['countries', 'populous', 'showing', 'current', 'population']\n"
     ]
    }
   ],
   "source": [
    "#1. Write a Python program to find words which are greater than given length k?\n",
    "\n",
    "#Input the length of words above which output word list is to be made\n",
    "num = (int(input(\"Enter length of the string to be returned : \")))\n",
    "str_in = \"Below is the full table of countries ranked by the most populous and showing current population\"\n",
    "\n",
    "a = 0\n",
    "\n",
    "#Words output\n",
    "print(\"Words in input string which are more than\",num,\"size long are : \",[a for a in str_in.split(\" \") if (len(a) > num)])\n",
    "\n"
   ]
  },
  {
   "cell_type": "code",
   "execution_count": 2,
   "id": "26d373e1",
   "metadata": {},
   "outputs": [
    {
     "name": "stdout",
     "output_type": "stream",
     "text": [
      "Enter which i-th character is to be removed from the string : 14\n",
      "String at position 14 is removed : Below is the ull table of countries ranked by the most populous and showing current population\n"
     ]
    }
   ],
   "source": [
    "#2. Write a Python program for removing i-th character from a string?\n",
    "\n",
    "#String for which the i-th character is to be removed\n",
    "num = (int(input(\"Enter which i-th character is to be removed from the string : \")))\n",
    "str_in = \"Below is the full table of countries ranked by the most populous and showing current population\"\n",
    "\n",
    "new_str=\"\"\n",
    "\n",
    "#loop the string and append the string without the ith character\n",
    "for i in range (0,len(str_in)):\n",
    "    if i != (num-1):\n",
    "       new_str +=str_in[i]\n",
    "    \n",
    "#print the updated string    \n",
    "print(\"String at position\",num,\"is removed :\",new_str)\n",
    "    "
   ]
  },
  {
   "cell_type": "code",
   "execution_count": 4,
   "id": "51066964",
   "metadata": {},
   "outputs": [
    {
     "name": "stdout",
     "output_type": "stream",
     "text": [
      "Split string :\n",
      " ['Below', 'is', 'the', 'full', 'table', 'of', 'countries', 'ranked', 'by', 'the', 'most', 'populous', 'and', 'showing', 'current', 'population']\n",
      "\n",
      "Joined the string with '&' character :\n",
      " Below&is&the&full&table&of&countries&ranked&by&the&most&populous&and&showing&current&population\n"
     ]
    }
   ],
   "source": [
    "#3.  Write a Python program to split and join a string?\n",
    "\n",
    "#String which has to be split and joined\n",
    "str_in = \"Below is the full table of countries ranked by the most populous and showing current population\"\n",
    "\n",
    "#Split the input string by spaces\n",
    "print(\"Split string :\\n\",str_in.split(\" \"))\n",
    "\n",
    "#Join the split string with & character\n",
    "print(\"\\nJoined the string with '&' character :\\n\",\"&\".join(str_in.split()))\n"
   ]
  },
  {
   "cell_type": "code",
   "execution_count": 15,
   "id": "336e5128",
   "metadata": {},
   "outputs": [
    {
     "name": "stdout",
     "output_type": "stream",
     "text": [
      "THE STRING : 10011000 \n",
      "IS A BINARY STRING\n"
     ]
    }
   ],
   "source": [
    "# 4. Write a Python to check if a given string is binary string or not?\n",
    "\n",
    "#String which has to be checked if its binary or not\n",
    "str_in = \"10011000\"\n",
    "\n",
    "status = \"N\"\n",
    "\n",
    "for i in range(0,len(str_in)):\n",
    "    if str_in[i] == \"0\" or str_in[i] == \"1\":\n",
    "       status = \"Y\"\n",
    "    else:\n",
    "       status = \"N\"\n",
    "\n",
    "#Status check to print if string is binary or not\n",
    "if status == \"Y\":\n",
    "    print (\"THE STRING :\",str_in,\"\\nIS A BINARY STRING\")\n",
    "else:\n",
    "    print (\"THE STRING :\",str_in, \"\\nIS NOT A BINARY STRING\")\n"
   ]
  },
  {
   "cell_type": "code",
   "execution_count": 20,
   "id": "4d96bb0a",
   "metadata": {},
   "outputs": [
    {
     "name": "stdout",
     "output_type": "stream",
     "text": [
      "UNCOMMON WORDS AMONG THE TWO STRINGS ARE :   Below is full table of countries ranked by most populous showing current population. We empower our employees around world to support causes they care about make a difference.\n"
     ]
    }
   ],
   "source": [
    "#5.  Write a Python program to find uncommon words from two Strings?\n",
    "\n",
    "#Strings to find thier uncommon words\n",
    "str_one = \"Below is the full table of countries ranked by the most populous and showing current population.\"\n",
    "str_two = \"We empower our employees around the world to support the causes they care about and make a difference.\"\n",
    "\n",
    "str_one_spl = str_one.split(\" \")\n",
    "str_two_spl = str_two.split(\" \")\n",
    "\n",
    "str_out = ''\n",
    "\n",
    "#Compare first string to second one\n",
    "for i in str_one_spl:\n",
    "    if i not in str_two_spl:\n",
    "        str_out +=\" \"+i\n",
    "        \n",
    "#Compare second string to first one\n",
    "for i in str_two_spl:\n",
    "    if i not in str_one_spl:\n",
    "        str_out +=\" \"+i\n",
    "        \n",
    "print(\"UNCOMMON WORDS AMONG THE TWO STRINGS ARE : \",str_out)\n"
   ]
  },
  {
   "cell_type": "code",
   "execution_count": 31,
   "id": "c905f5fb",
   "metadata": {},
   "outputs": [
    {
     "name": "stdout",
     "output_type": "stream",
     "text": [
      "Enter the string : To find all duplicate characters in the string\n",
      "All duplicate characters in the string are: [' ', 'i', 'n', 'd', 'a', 'l', 'c', 't', 'e', 'h', 'r', 's']\n"
     ]
    }
   ],
   "source": [
    "#6.  Write a Python program to find all duplicate characters in string?\n",
    "\n",
    "\n",
    "#To find all duplicate characters in string\n",
    "str = input(\"Enter the string : \")\n",
    "\n",
    "dup = {}\n",
    "\n",
    "#counter to check if there is a duplicate character in string\n",
    "for i in str:\n",
    "    if i not in dup:\n",
    "        dup[i] = 0\n",
    "    else:\n",
    "        dup[i] += 1\n",
    "\n",
    "#collect all the characters that are duplicated\n",
    "output = []\n",
    "for keys,value in dup.items():        \n",
    "    if value > 0:\n",
    "       output.append(keys)\n",
    "    \n",
    "      \n",
    "print(\"All duplicate characters in the string are:\", format(output))\n",
    "\n"
   ]
  },
  {
   "cell_type": "code",
   "execution_count": 55,
   "id": "14434355",
   "metadata": {},
   "outputs": [
    {
     "name": "stdout",
     "output_type": "stream",
     "text": [
      "Enter the string : khh:igj/\n",
      "khh:igj/ Contains Special Character(s)\n"
     ]
    }
   ],
   "source": [
    "#7.   Write a Python Program to check if a string contains any special character?\n",
    "\n",
    "#import Regular expression function to check for a character in a string\n",
    "import re\n",
    "str = input(\"Enter the string : \")\n",
    "\n",
    "#List of all special characters\n",
    "tocheck = re.compile('[@_!#$%^&*()<>?/\\|}{~:]')\n",
    "\n",
    "if (tocheck.search(str) == None):\n",
    "    print(str, \"Doesnot contain any Special Characters\")\n",
    "else:\n",
    "    print(str, \"Contains Special Character(s)\")\n",
    "    \n",
    "    "
   ]
  }
 ],
 "metadata": {
  "kernelspec": {
   "display_name": "Python 3 (ipykernel)",
   "language": "python",
   "name": "python3"
  },
  "language_info": {
   "codemirror_mode": {
    "name": "ipython",
    "version": 3
   },
   "file_extension": ".py",
   "mimetype": "text/x-python",
   "name": "python",
   "nbconvert_exporter": "python",
   "pygments_lexer": "ipython3",
   "version": "3.9.12"
  }
 },
 "nbformat": 4,
 "nbformat_minor": 5
}
