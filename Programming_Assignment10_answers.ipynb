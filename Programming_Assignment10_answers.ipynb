{
 "cells": [
  {
   "cell_type": "code",
   "execution_count": 4,
   "id": "af5ad52a",
   "metadata": {},
   "outputs": [
    {
     "name": "stdout",
     "output_type": "stream",
     "text": [
      "Enter number of elements in list : 4\n",
      "Enter the elements one by one : 1\n",
      "Enter the elements one by one : 2\n",
      "Enter the elements one by one : 3\n",
      "Enter the elements one by one : 4\n",
      "Sum of elements in list =  10\n"
     ]
    }
   ],
   "source": [
    "#1. Write a Python program to find sum of elements in list?\n",
    "\n",
    "#list for which sum is to be arrived\n",
    "num = (int(input(\"Enter number of elements in list : \")))\n",
    "\n",
    "list = []\n",
    "\n",
    "for i in range (0,num):\n",
    "    num_list = (int(input(\"Enter the elements one by one : \")))\n",
    "    list.append(num_list)\n",
    "\n",
    "sum = 0\n",
    "\n",
    "#Using for loop to sum elements in list\n",
    "for i in range (0,len(list)):\n",
    "    sum = sum + list[i]\n",
    "\n",
    "print (\"Sum of elements in list = \",sum)\n"
   ]
  },
  {
   "cell_type": "code",
   "execution_count": 5,
   "id": "eaa07cc3",
   "metadata": {},
   "outputs": [
    {
     "name": "stdout",
     "output_type": "stream",
     "text": [
      "Enter number of elements in list : 4\n",
      "Enter the elements one by one : 2\n",
      "Enter the elements one by one : 1\n",
      "Enter the elements one by one : 2\n",
      "Enter the elements one by one : 1\n",
      "Product of elements in list =  4\n"
     ]
    }
   ],
   "source": [
    "#2. Write a Python program to find product of elements in list?\n",
    "\n",
    "#list for which sum is to be arrived\n",
    "num = (int(input(\"Enter number of elements in list : \")))\n",
    "\n",
    "list = []\n",
    "\n",
    "for i in range (0,num):\n",
    "    num_list = (int(input(\"Enter the elements one by one : \")))\n",
    "    list.append(num_list)\n",
    "\n",
    "mul = 1\n",
    "\n",
    "#Using for loop to sum elements in list\n",
    "for i in range (0,len(list)):\n",
    "    mul = mul * list[i]\n",
    "\n",
    "print (\"Product of elements in list = \",mul)"
   ]
  },
  {
   "cell_type": "code",
   "execution_count": 10,
   "id": "5b6ad170",
   "metadata": {},
   "outputs": [
    {
     "name": "stdout",
     "output_type": "stream",
     "text": [
      "Enter number of elements in list : 4\n",
      "Enter the elements one by one : 3\n",
      "Enter the elements one by one : -2\n",
      "Enter the elements one by one : 4\n",
      "Enter the elements one by one : 10\n",
      "The smallest in the list is  -2\n"
     ]
    }
   ],
   "source": [
    "#3. Write a Python program to find smallest number in a list\n",
    "\n",
    "#list for which the smallest element is to be arrived\n",
    "num = (int(input(\"Enter number of elements in list : \")))\n",
    "\n",
    "list = []\n",
    "\n",
    "for i in range (0,num):\n",
    "    num_list = (int(input(\"Enter the elements one by one : \")))\n",
    "    list.append(num_list)\n",
    "    \n",
    "small = list[0]\n",
    "\n",
    "for i in range (0,len(list)):\n",
    "#assign smallest   \n",
    "    if small > list[i]:\n",
    "       small = list[i]\n",
    "print (\"The smallest in the list is \",small)\n",
    "   "
   ]
  },
  {
   "cell_type": "code",
   "execution_count": 11,
   "id": "d4dcd423",
   "metadata": {},
   "outputs": [
    {
     "name": "stdout",
     "output_type": "stream",
     "text": [
      "Enter number of elements in list : 5\n",
      "Enter the elements one by one : 2\n",
      "Enter the elements one by one : 3\n",
      "Enter the elements one by one : 5\n",
      "Enter the elements one by one : 1\n",
      "Enter the elements one by one : 3\n",
      "The largest in the list is  5\n"
     ]
    }
   ],
   "source": [
    "#4. Write a Python program to find largest number in a list\n",
    "\n",
    "#list for which the largest element is to be arrived\n",
    "num = (int(input(\"Enter number of elements in list : \")))\n",
    "\n",
    "list = []\n",
    "\n",
    "for i in range (0,num):\n",
    "    num_list = (int(input(\"Enter the elements one by one : \")))\n",
    "    list.append(num_list)\n",
    "    \n",
    "large = list[0]\n",
    "\n",
    "for i in range (0,len(list)):\n",
    "#assign smallest   \n",
    "    if large < list[i]:\n",
    "       large = list[i]\n",
    "print (\"The largest in the list is \",large)"
   ]
  },
  {
   "cell_type": "code",
   "execution_count": 5,
   "id": "c5a90f39",
   "metadata": {},
   "outputs": [
    {
     "name": "stdout",
     "output_type": "stream",
     "text": [
      "Enter number of elements in list : 5\n",
      "Enter the elements one by one : 22\n",
      "Enter the elements one by one : 11\n",
      "Enter the elements one by one : 33\n",
      "Enter the elements one by one : 10\n",
      "Enter the elements one by one : 55\n",
      "The Second largest in the list is  [33]\n"
     ]
    }
   ],
   "source": [
    "#5. Write a Python program to find second largest number in a list?\n",
    "\n",
    "#list for which the second largest element is to be arrived\n",
    "num = (int(input(\"Enter number of elements in list : \")))\n",
    "\n",
    "list = []\n",
    "\n",
    "for i in range (0,num):\n",
    "    num_list = (int(input(\"Enter the elements one by one : \")))\n",
    "    list.append(num_list)\n",
    "    \n",
    "\n",
    "list.sort()\n",
    "\n",
    "#Print the second largest in the list\n",
    "print (\"The Second largest in the list is \",list[num-2:num-3:-1])"
   ]
  },
  {
   "cell_type": "code",
   "execution_count": 7,
   "id": "2d696b99",
   "metadata": {},
   "outputs": [
    {
     "name": "stdout",
     "output_type": "stream",
     "text": [
      "Enter number of elements in list : 5\n",
      "Enter the elements one by one : 11\n",
      "Enter the elements one by one : 33\n",
      "Enter the elements one by one : 2\n",
      "Enter the elements one by one : 33\n",
      "Enter the elements one by one : 44\n",
      "Enter N to find these many largest numbers : 3\n",
      "The 3 largest number of elements from the list are :  [33, 33, 44]\n"
     ]
    }
   ],
   "source": [
    "#6. Write a Python program to find N largest elements from a list?\n",
    "\n",
    "#list to find N largest elements\n",
    "num = (int(input(\"Enter number of elements in list : \")))\n",
    "\n",
    "list = []\n",
    "\n",
    "#Append the dynamic list\n",
    "for i in range (0,num):\n",
    "    num_list = (int(input(\"Enter the elements one by one : \")))\n",
    "    list.append(num_list)\n",
    "\n",
    "num_N = (int(input(\"Enter N to find these many largest numbers : \")))\n",
    "\n",
    "#sort the list\n",
    "list.sort()\n",
    "print(\"The\",num_N,\"largest number of elements from the list are : \",list[-num_N:])\n"
   ]
  },
  {
   "cell_type": "code",
   "execution_count": 7,
   "id": "c1ad7702",
   "metadata": {},
   "outputs": [
    {
     "name": "stdout",
     "output_type": "stream",
     "text": [
      "Enter number of elements in list : 4\n",
      "Enter the elements one by one : 2\n",
      "Enter the elements one by one : 12\n",
      "Enter the elements one by one : 3\n",
      "Enter the elements one by one : 5\n",
      "Even numbers in the list are :  [2, 12]\n"
     ]
    }
   ],
   "source": [
    "#7. Write a Python program to print even numbers in a list?\n",
    "\n",
    "#Program to find even numbers in the list\n",
    "num = (int(input(\"Enter number of elements in list : \")))\n",
    "\n",
    "list = []\n",
    "list1 = []\n",
    "\n",
    "#Append the dynamic list\n",
    "for i in range (0,num):\n",
    "    num_list = (int(input(\"Enter the elements one by one : \")))\n",
    "    list.append(num_list)\n",
    "\n",
    "#Finding numbers in list divisible by 2\n",
    "for i in  range(0,len(list)):\n",
    "    if list[i]%2 == 0:\n",
    "        list1.append(list[i])\n",
    "\n",
    "#Print even in the list\n",
    "print(\"Even numbers in the list are : \", list1)\n"
   ]
  },
  {
   "cell_type": "code",
   "execution_count": 9,
   "id": "434ee7bd",
   "metadata": {},
   "outputs": [
    {
     "name": "stdout",
     "output_type": "stream",
     "text": [
      "Enter number of elements in list : 5\n",
      "Enter the elements one by one : 2\n",
      "Enter the elements one by one : 5\n",
      "Enter the elements one by one : 1\n",
      "Enter the elements one by one : 56\n",
      "Enter the elements one by one : 17\n",
      "Odd numbers in the list are :  [5, 1, 17]\n"
     ]
    }
   ],
   "source": [
    "#8. Write a Python program to print odd numbers in a list?\n",
    "\n",
    "#Program to find Odd numbers in the list\n",
    "num = (int(input(\"Enter number of elements in list : \")))\n",
    "\n",
    "list = []\n",
    "list1 = []\n",
    "\n",
    "#Append the dynamic list\n",
    "for i in range (0,num):\n",
    "    num_list = (int(input(\"Enter the elements one by one : \")))\n",
    "    list.append(num_list)\n",
    "\n",
    "#Finding numbers in list not divisible by 2\n",
    "for i in  range(0,len(list)):\n",
    "    if list[i]%2 != 0:\n",
    "        list1.append(list[i])\n",
    "\n",
    "#Print Odd in the list\n",
    "print(\"Odd numbers in the list are : \", list1)"
   ]
  },
  {
   "cell_type": "code",
   "execution_count": 12,
   "id": "8452e135",
   "metadata": {},
   "outputs": [
    {
     "name": "stdout",
     "output_type": "stream",
     "text": [
      "list before removing empty list [1, 2, 'str', [], 'tr', []]\n",
      "list after removing empty list [1, 2, 'str', 'tr']\n"
     ]
    }
   ],
   "source": [
    "#9. Write a Python program to Remove empty List from List?\n",
    "\n",
    "#list with empty list\n",
    "list = [1,2,\"str\",[],\"tr\",[]]\n",
    "print(\"list before removing empty list\" , list)\n",
    "list1 = []\n",
    "\n",
    "#Finding empty list\n",
    "for i in  range(0,len(list)):\n",
    "    if list[i] != []:\n",
    "        list1.append(list[i])\n",
    "\n",
    "#Print Odd in the list\n",
    "print(\"list after removing empty list\" , list1)"
   ]
  },
  {
   "cell_type": "code",
   "execution_count": 16,
   "id": "dfab81ae",
   "metadata": {},
   "outputs": [
    {
     "name": "stdout",
     "output_type": "stream",
     "text": [
      "Enter number of elements in list : 5\n",
      "Enter the elements one by one : 2\n",
      "Enter the elements one by one : 12\n",
      "Enter the elements one by one : 22\n",
      "Enter the elements one by one : 32\n",
      "Enter the elements one by one : 42\n",
      "List before cloning is :  [2, 12, 22, 32, 42]\n",
      "List after cloning is  :  [2, 12, 22, 32, 42]\n"
     ]
    }
   ],
   "source": [
    "#10. Write a Python program to Cloning or Copying a list?\n",
    "\n",
    "#Program to cloning or copying a list\n",
    "num = (int(input(\"Enter number of elements in list : \")))\n",
    "\n",
    "list = []\n",
    "list1 = []\n",
    "\n",
    "#Append the dynamic list\n",
    "for i in range (0,num):\n",
    "    num_list = (int(input(\"Enter the elements one by one : \")))\n",
    "    list.append(num_list)\n",
    "\n",
    "#cloning by slicing operation\n",
    "list1 = list[:]\n",
    "\n",
    "print(\"List before cloning is : \" , list)\n",
    "print(\"List after cloning is  : \" , list1)"
   ]
  },
  {
   "cell_type": "code",
   "execution_count": 23,
   "id": "35ecd7e0",
   "metadata": {},
   "outputs": [
    {
     "name": "stdout",
     "output_type": "stream",
     "text": [
      "Enter number of elements in list : 5\n",
      "Enter the elements one by one : 1\n",
      "Enter the elements one by one : 2\n",
      "Enter the elements one by one : 3\n",
      "Enter the elements one by one : 2\n",
      "Enter the elements one by one : 4\n",
      "Enter the number to find its occurence in the list : 2\n",
      "2 occured 2 times in the list\n"
     ]
    }
   ],
   "source": [
    "#11. Write a Python program to Count occurrences of an element in a list?\n",
    "\n",
    "#Program to cloning or copying a list\n",
    "num = (int(input(\"Enter number of elements in list : \")))\n",
    "\n",
    "list = []\n",
    "count = 0\n",
    "\n",
    "#Append the dynamic list\n",
    "for i in range (0,num):\n",
    "    num_list = (int(input(\"Enter the elements one by one : \")))\n",
    "    list.append(num_list)\n",
    "    \n",
    "number = (int(input(\"Enter the number to find its occurence in the list : \")))\n",
    "\n",
    "#Count number of occurence in the list\n",
    "for j in range (0,num):\n",
    "    if list[j] == number:\n",
    "       count += 1\n",
    "        \n",
    "if count > 0:\n",
    "   print(number , \"occured\", count ,\"times in the list\")\n",
    "else:\n",
    "   print(number , \"didnot occur in the list\")"
   ]
  }
 ],
 "metadata": {
  "kernelspec": {
   "display_name": "Python 3 (ipykernel)",
   "language": "python",
   "name": "python3"
  },
  "language_info": {
   "codemirror_mode": {
    "name": "ipython",
    "version": 3
   },
   "file_extension": ".py",
   "mimetype": "text/x-python",
   "name": "python",
   "nbconvert_exporter": "python",
   "pygments_lexer": "ipython3",
   "version": "3.9.12"
  }
 },
 "nbformat": 4,
 "nbformat_minor": 5
}
