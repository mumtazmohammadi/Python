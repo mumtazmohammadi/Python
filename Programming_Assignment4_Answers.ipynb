{
 "cells": [
  {
   "cell_type": "code",
   "execution_count": 16,
   "id": "1acf52b8",
   "metadata": {},
   "outputs": [
    {
     "name": "stdout",
     "output_type": "stream",
     "text": [
      "Enter positive number 6\n",
      "Factorial of  6 is  720\n"
     ]
    }
   ],
   "source": [
    "#1. Write a Python Program to Find the Factorial of a Number?\n",
    "\n",
    "# Program to get the factorial of a number\n",
    "\n",
    "a = int (input(\"Enter positive number \"))\n",
    "\n",
    "y = 1\n",
    "\n",
    "if a == 0:\n",
    "    print (\"factorial of \",a,\"is \",\"0\")\n",
    "\n",
    "if a > 0:\n",
    "    for i in range (1,a+1): \n",
    "        y *= i # factorial of number n!\n",
    "    \n",
    "    print (\"Factorial of \",a,\"is \",y)"
   ]
  },
  {
   "cell_type": "code",
   "execution_count": 27,
   "id": "df4aaccf",
   "metadata": {},
   "outputs": [
    {
     "name": "stdout",
     "output_type": "stream",
     "text": [
      "Enter number to print its multiplication table: 5\n",
      "5 * 0 = 0\n",
      "5 * 1 = 5\n",
      "5 * 2 = 10\n",
      "5 * 3 = 15\n",
      "5 * 4 = 20\n",
      "5 * 5 = 25\n",
      "5 * 6 = 30\n",
      "5 * 7 = 35\n",
      "5 * 8 = 40\n",
      "5 * 9 = 45\n",
      "5 * 10 = 50\n",
      "5 * 11 = 55\n",
      "5 * 12 = 60\n"
     ]
    }
   ],
   "source": [
    "#2. Write a Python Program to Display the multiplication Table?\n",
    "\n",
    "# Python Program to Display the multiplication Table of a number entered\n",
    "\n",
    "a = int (input(\"Enter number to print its multiplication table: \"))\n",
    "\n",
    "b = 1\n",
    "\n",
    "if a > 0:\n",
    "    for i in range (0,13): # Loop upto 12 to get the multiplication table\n",
    "        b = i * a\n",
    "        print (a ,\"*\", i, \"=\", b) # print each row of multiplication \n",
    "\n",
    "    "
   ]
  },
  {
   "cell_type": "code",
   "execution_count": 33,
   "id": "c5dab0f4",
   "metadata": {},
   "outputs": [
    {
     "name": "stdout",
     "output_type": "stream",
     "text": [
      "Enter number to print its Fibonacci Series: 7\n",
      "[1, 2, 3, 5, 8, 13, 21]\n"
     ]
    }
   ],
   "source": [
    "# 3. Write a Python Program to Print the Fibonacci sequence?\n",
    "\n",
    "n = int (input(\"Enter number to print its Fibonacci Series: \"))\n",
    "a = 1\n",
    "b = 2\n",
    "l = []\n",
    "\n",
    "for i in range(n):\n",
    "    \n",
    "    l.append(a) #Create the Fibonacci list\n",
    "    \n",
    "    a,b = b, a+b # assign the next number to first and the sum of two numbers to the second\n",
    "    \n",
    "print(l)"
   ]
  },
  {
   "cell_type": "code",
   "execution_count": 21,
   "id": "5496e56f",
   "metadata": {},
   "outputs": [
    {
     "name": "stdout",
     "output_type": "stream",
     "text": [
      "Enter number to check if it is a Armstrong number: 153\n",
      "153 is an Armstrong number\n"
     ]
    }
   ],
   "source": [
    "# 4. Write a Python Program to Check Armstrong Number?\n",
    "\n",
    "n = int (input(\"Enter number to check if it is a Armstrong number: \"))\n",
    "\n",
    "sum = 0\n",
    "\n",
    "if n > 0:\n",
    "    digits = [int(x) for x in str(n)] #to make a list of digits of the integer entered\n",
    "    \n",
    "for i in range(len(str(n))) :             \n",
    "    sum += digits[i]**len(digits) #Each digit ie.digit[i] to the power of the length of the integer\n",
    "\n",
    "#If the sum of each digit to the power of the length of the integer is same as the integer then its an Armstrong number\n",
    "if sum == n: \n",
    "    print(n ,\"is an Armstrong number\")\n",
    "else:\n",
    "    print(n ,\"is not an Armstrong number\")\n",
    "    \n"
   ]
  },
  {
   "cell_type": "code",
   "execution_count": 64,
   "id": "89249071",
   "metadata": {},
   "outputs": [
    {
     "name": "stdout",
     "output_type": "stream",
     "text": [
      "Enter range from where armstrong number will be printed: 1\n",
      "Enter range to which armstrong number will be printed  : 500\n",
      "1\n",
      "2\n",
      "3\n",
      "4\n",
      "5\n",
      "6\n",
      "7\n",
      "8\n",
      "9\n",
      "153\n",
      "370\n",
      "371\n",
      "407\n"
     ]
    }
   ],
   "source": [
    "#5. Write a Python Program to Find Armstrong Number in an Interval?\n",
    "\n",
    "#Python program to print the armstrong number between a range\n",
    "\n",
    "a = int (input(\"Enter range from where armstrong number will be printed: \"))\n",
    "b = int (input(\"Enter range to which armstrong number will be printed  : \"))\n",
    "\n",
    "for j in range(a, b + 1):\n",
    "\n",
    "    sum = 0\n",
    "    temp = j\n",
    "    while temp > 0:\n",
    "          digit = temp % 10 #The first digit is picked\n",
    "          sum += digit**len(str(j)) #picked digit multiplied with power of length of number\n",
    "          temp //= 10 #Accessing the second digit if any and henceforth\n",
    "              \n",
    "    if j == sum: #check if its armstrong number then print it\n",
    "       print(j)"
   ]
  },
  {
   "cell_type": "code",
   "execution_count": 73,
   "id": "f4bcafbc",
   "metadata": {},
   "outputs": [
    {
     "name": "stdout",
     "output_type": "stream",
     "text": [
      "Enter range upto which to print sum of natural numbers: 30\n",
      "Sum of natural numbers upto 30 is 465\n"
     ]
    }
   ],
   "source": [
    "# 6. Write a Python Program to Find the Sum of Natural Numbers?\n",
    "\n",
    "#Sum of natural number\n",
    "\n",
    "a = int (input(\"Enter range upto which to print sum of natural numbers: \"))\n",
    "\n",
    "#Initialize the sum\n",
    "sum = 0\n",
    "if a > 0:\n",
    "    for i in range(1,a+1):\n",
    "        sum += i  #Sum the numbers\n",
    "        \n",
    "print (\"Sum of natural numbers upto\",a,\"is\", sum)\n",
    "\n",
    "    "
   ]
  },
  {
   "cell_type": "code",
   "execution_count": null,
   "id": "a19fb573",
   "metadata": {},
   "outputs": [],
   "source": []
  }
 ],
 "metadata": {
  "kernelspec": {
   "display_name": "Python 3 (ipykernel)",
   "language": "python",
   "name": "python3"
  },
  "language_info": {
   "codemirror_mode": {
    "name": "ipython",
    "version": 3
   },
   "file_extension": ".py",
   "mimetype": "text/x-python",
   "name": "python",
   "nbconvert_exporter": "python",
   "pygments_lexer": "ipython3",
   "version": "3.9.12"
  }
 },
 "nbformat": 4,
 "nbformat_minor": 5
}
