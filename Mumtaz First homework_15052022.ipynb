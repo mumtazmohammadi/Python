{
 "cells": [
  {
   "cell_type": "code",
   "execution_count": 3,
   "id": "a1f8420f",
   "metadata": {},
   "outputs": [],
   "source": [
    "s = \"this is My First Python programming class and i am learNING python string and its function\"\n"
   ]
  },
  {
   "cell_type": "code",
   "execution_count": 4,
   "id": "c899eb32",
   "metadata": {},
   "outputs": [
    {
     "data": {
      "text/plain": [
       "'h   r tnrrmglsnimeNGyosi dtfco'"
      ]
     },
     "execution_count": 4,
     "metadata": {},
     "output_type": "execute_result"
    }
   ],
   "source": [
    "s[1:300:3]"
   ]
  },
  {
   "cell_type": "code",
   "execution_count": 5,
   "id": "c310c05f",
   "metadata": {},
   "outputs": [
    {
     "data": {
      "text/plain": [
       "'noitcnuf sti dna gnirts nohtyp GNINrael ma i dna ssalc gnimmargorp nohtyP tsriF yM si siht'"
      ]
     },
     "execution_count": 5,
     "metadata": {},
     "output_type": "execute_result"
    }
   ],
   "source": [
    "s[::-1]"
   ]
  },
  {
   "cell_type": "code",
   "execution_count": 6,
   "id": "3c27e2f3",
   "metadata": {},
   "outputs": [],
   "source": [
    "s1 = s.upper()"
   ]
  },
  {
   "cell_type": "code",
   "execution_count": 7,
   "id": "ca7e7453",
   "metadata": {},
   "outputs": [
    {
     "data": {
      "text/plain": [
       "['THIS',\n",
       " 'IS',\n",
       " 'MY',\n",
       " 'FIRST',\n",
       " 'PYTHON',\n",
       " 'PROGRAMMING',\n",
       " 'CLASS',\n",
       " 'AND',\n",
       " 'I',\n",
       " 'AM',\n",
       " 'LEARNING',\n",
       " 'PYTHON',\n",
       " 'STRING',\n",
       " 'AND',\n",
       " 'ITS',\n",
       " 'FUNCTION']"
      ]
     },
     "execution_count": 7,
     "metadata": {},
     "output_type": "execute_result"
    }
   ],
   "source": [
    "s1.split()"
   ]
  },
  {
   "cell_type": "code",
   "execution_count": 8,
   "id": "b3f967c6",
   "metadata": {},
   "outputs": [
    {
     "data": {
      "text/plain": [
       "'this is my first python programming class and i am learning python string and its function'"
      ]
     },
     "execution_count": 8,
     "metadata": {},
     "output_type": "execute_result"
    }
   ],
   "source": [
    "s.lower()"
   ]
  },
  {
   "cell_type": "code",
   "execution_count": 9,
   "id": "09278bd9",
   "metadata": {},
   "outputs": [
    {
     "data": {
      "text/plain": [
       "'THIS IS MY FIRST PYTHON PROGRAMMING CLASS AND I AM LEARNING PYTHON STRING AND ITS FUNCTION'"
      ]
     },
     "execution_count": 9,
     "metadata": {},
     "output_type": "execute_result"
    }
   ],
   "source": [
    "s.upper()"
   ]
  },
  {
   "cell_type": "code",
   "execution_count": 12,
   "id": "ef8c3fc9",
   "metadata": {},
   "outputs": [],
   "source": [
    "# question - difference between isalnum and isalpha #\n",
    "\n",
    "# Answer - s.isalnum returns boolean True only if the string is a number but s.isalpha returns boolean True only\n",
    "# if the string is a alphabet\n"
   ]
  },
  {
   "cell_type": "code",
   "execution_count": 15,
   "id": "fa92d0b6",
   "metadata": {},
   "outputs": [],
   "source": [
    " s2 = \"p\\ty\\tt\\th\\to\\tn\""
   ]
  },
  {
   "cell_type": "code",
   "execution_count": 16,
   "id": "5b04ab6f",
   "metadata": {},
   "outputs": [
    {
     "data": {
      "text/plain": [
       "'p       y       t       h       o       n'"
      ]
     },
     "execution_count": 16,
     "metadata": {},
     "output_type": "execute_result"
    }
   ],
   "source": [
    "s2.expandtabs() #example with regular command "
   ]
  },
  {
   "cell_type": "code",
   "execution_count": 17,
   "id": "8a28e511",
   "metadata": {},
   "outputs": [
    {
     "data": {
      "text/plain": [
       "'p         y         t         h         o         n'"
      ]
     },
     "execution_count": 17,
     "metadata": {},
     "output_type": "execute_result"
    }
   ],
   "source": [
    "s2.expandtabs(10) #example with tab size as 10"
   ]
  },
  {
   "cell_type": "code",
   "execution_count": 21,
   "id": "1312abc1",
   "metadata": {},
   "outputs": [],
   "source": [
    "s3 = \"   first class    \" # example with spaces before and after the word first class"
   ]
  },
  {
   "cell_type": "code",
   "execution_count": 22,
   "id": "e31527f7",
   "metadata": {},
   "outputs": [
    {
     "data": {
      "text/plain": [
       "'first class'"
      ]
     },
     "execution_count": 22,
     "metadata": {},
     "output_type": "execute_result"
    }
   ],
   "source": [
    "s3.strip() # strip command strios all the spaces irrespective of left or right"
   ]
  },
  {
   "cell_type": "code",
   "execution_count": 23,
   "id": "10a561ce",
   "metadata": {},
   "outputs": [
    {
     "data": {
      "text/plain": [
       "'first class    '"
      ]
     },
     "execution_count": 23,
     "metadata": {},
     "output_type": "execute_result"
    }
   ],
   "source": [
    "s3.lstrip() # lstrip command strips the spaces on the left"
   ]
  },
  {
   "cell_type": "code",
   "execution_count": 24,
   "id": "2d7542d3",
   "metadata": {},
   "outputs": [
    {
     "data": {
      "text/plain": [
       "'   first class'"
      ]
     },
     "execution_count": 24,
     "metadata": {},
     "output_type": "execute_result"
    }
   ],
   "source": [
    "s3.rstrip() # rstrip command strips the spaces on the right "
   ]
  },
  {
   "cell_type": "code",
   "execution_count": 39,
   "id": "08115cc4",
   "metadata": {},
   "outputs": [],
   "source": [
    "s4 = \"She sells sea shells by the sea shore\" # replace sea by free"
   ]
  },
  {
   "cell_type": "code",
   "execution_count": 40,
   "id": "150b5ed3",
   "metadata": {},
   "outputs": [
    {
     "data": {
      "text/plain": [
       "'She sells free shells by the free shore'"
      ]
     },
     "execution_count": 40,
     "metadata": {},
     "output_type": "execute_result"
    }
   ],
   "source": [
    "s4.replace(\"sea\",\"free\") #default occurence"
   ]
  },
  {
   "cell_type": "code",
   "execution_count": 41,
   "id": "c3640a3d",
   "metadata": {},
   "outputs": [
    {
     "data": {
      "text/plain": [
       "'She sells free shells by the sea shore'"
      ]
     },
     "execution_count": 41,
     "metadata": {},
     "output_type": "execute_result"
    }
   ],
   "source": [
    "s4.replace(\"sea\",\"free\",1) # one occurence"
   ]
  },
  {
   "cell_type": "code",
   "execution_count": 46,
   "id": "9c1e1c09",
   "metadata": {},
   "outputs": [
    {
     "data": {
      "text/plain": [
       "'@@She sells sea shells by the sea shore@@@'"
      ]
     },
     "execution_count": 46,
     "metadata": {},
     "output_type": "execute_result"
    }
   ],
   "source": [
    "# centre string returns a string which is centred and the spaces if any on its left and right filled with the string provided \n",
    "s4.center(42,\"@\") # in the braces provided for example in this case its @"
   ]
  },
  {
   "cell_type": "code",
   "execution_count": 47,
   "id": "659f05bd",
   "metadata": {},
   "outputs": [],
   "source": [
    "# A compiler converts the command statements in coding language or programming language to a language which the computer \n",
    "# machine understands\n",
    "\n",
    "# An interpreter executes these command statements in coding language or programming language directly and gives the\n",
    "# answer not needing to convert it to a machine understandable language\n"
   ]
  },
  {
   "cell_type": "code",
   "execution_count": 48,
   "id": "e4e4ddb2",
   "metadata": {},
   "outputs": [],
   "source": [
    "# Python is a interpreted language - This means that Python doesnot use a compiler to convert the written code \n",
    "# to machine language (in bits and bytes) instead it uses interpreter to directly convert the programming code to\n",
    "# code understood by the machine\n"
   ]
  },
  {
   "cell_type": "code",
   "execution_count": null,
   "id": "6641b84b",
   "metadata": {},
   "outputs": [],
   "source": [
    "# usecase where python is used - to help in affiliate marketing with analysing data where the data traffic goes to in case \n",
    "# of seraching to buy a new laptop or in searching to buy a yoga mat online."
   ]
  }
 ],
 "metadata": {
  "kernelspec": {
   "display_name": "Python 3 (ipykernel)",
   "language": "python",
   "name": "python3"
  },
  "language_info": {
   "codemirror_mode": {
    "name": "ipython",
    "version": 3
   },
   "file_extension": ".py",
   "mimetype": "text/x-python",
   "name": "python",
   "nbconvert_exporter": "python",
   "pygments_lexer": "ipython3",
   "version": "3.9.12"
  }
 },
 "nbformat": 4,
 "nbformat_minor": 5
}
