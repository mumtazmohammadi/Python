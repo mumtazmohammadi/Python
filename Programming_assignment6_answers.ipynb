{
 "cells": [
  {
   "cell_type": "code",
   "execution_count": 18,
   "id": "b972329f",
   "metadata": {},
   "outputs": [
    {
     "name": "stdout",
     "output_type": "stream",
     "text": [
      "Enter Fibonacci series limit : 4\n",
      "Fibonacci sequence:\n",
      "0\n",
      "1\n",
      "1\n",
      "2\n"
     ]
    }
   ],
   "source": [
    "# 1 Write a Python Program to Display Fibonacci Sequence Using Recursion?\n",
    "\n",
    "# Fibonacci series via recursive function\n",
    "\n",
    "def Fib(n):\n",
    "    \"\"\"Fibonacci series calculator \"\"\"\n",
    "    if n <= 1:\n",
    "       return n\n",
    "    else:\n",
    "       return(Fib(n-1) + Fib(n-2))\n",
    "\n",
    "num = int(input(\"Enter Fibonacci series limit : \"))\n",
    "\n",
    "# Validate if entered number is valid\n",
    "\n",
    "if num <= 0:\n",
    "   print(\"Plese enter a positive integer\")\n",
    "else:\n",
    "   print(\"Fibonacci sequence:\")\n",
    "   for i in range(num):\n",
    "       print(Fib(i))"
   ]
  },
  {
   "cell_type": "code",
   "execution_count": 70,
   "id": "29c2c3f2",
   "metadata": {},
   "outputs": [
    {
     "name": "stdout",
     "output_type": "stream",
     "text": [
      "Enter number to find its Factorial : 5\n",
      "Factorial of  5 ! = 120\n"
     ]
    }
   ],
   "source": [
    "#2. Write a Python Program to Find Factorial of Number Using Recursion?\n",
    "\n",
    "# Factorial number via recursive function\n",
    "\n",
    "\n",
    "def fact(n):\n",
    "   \"\"\"Factorial of number by recursive process\"\"\"\n",
    "   if n == 1 :\n",
    "      return n\n",
    "   else :\n",
    "      return n * fact(n-1)\n",
    "\n",
    "num = int(input(\"Enter number to find its Factorial : \"))\n",
    "\n",
    "# Validate if entered number is valid\n",
    "\n",
    "if num < 0 :\n",
    "   print(\"Factorial of negative number doesnot exist\") \n",
    "elif num == 0:\n",
    "   print(\"Factorial of \",num,\"!\",\"=\",num+1) #Factorial of 0\n",
    "else:    \n",
    "   print(\"Factorial of \",num,\"!\",\"=\",fact(num)) #recursive function called\n",
    "\n"
   ]
  },
  {
   "cell_type": "code",
   "execution_count": 35,
   "id": "5937e22b",
   "metadata": {},
   "outputs": [
    {
     "name": "stdout",
     "output_type": "stream",
     "text": [
      "Enter your weight in Kilogram :30\n",
      "Enter your height in metre    :1.43\n",
      "You are Normal weight, Great!!!\n"
     ]
    }
   ],
   "source": [
    "#3. Write a Python Program to calculate your Body Mass Index?\n",
    "\n",
    "#underweight   (BMI less than 18.5)\n",
    "#normal weight (BMI between 18.5 & 24.9)\n",
    "#overweight    (BMI between 25.0 & 29.9)\n",
    "#obese         (BMI 30.0 and above)\n",
    "\n",
    "weight = float(input(\"Enter your weight in Kilogram :\"))\n",
    "height = float(input(\"Enter your height in metre    :\"))\n",
    "\n",
    "bmi = weight/height\n",
    "if bmi < 18.5:\n",
    "   print (\"you are Underweight\")\n",
    "elif bmi > 18.5 and bmi < 25:\n",
    "   print (\"You are Normal weight, Great!!!\") \n",
    "elif bmi > 25 and bmi < 30:\n",
    "   print (\"You are Overweight\")\n",
    "else:\n",
    "   print(\"You are Obese\")\n"
   ]
  },
  {
   "cell_type": "code",
   "execution_count": 42,
   "id": "fc619bdf",
   "metadata": {
    "scrolled": true
   },
   "outputs": [
    {
     "name": "stdout",
     "output_type": "stream",
     "text": [
      "Enter the number to find its log value : 4\n",
      "Log base 10 of 4 is 1.3862943611198906\n"
     ]
    }
   ],
   "source": [
    "#4. Write a Python Program to calculate the natural logarithm of any number?\n",
    "\n",
    "#Find log base 10 value of a given number via Python inbuilt function\n",
    "\n",
    "import math\n",
    "a = int(input(\"Enter the number to find its log value : \"))\n",
    "if a < 1:\n",
    "    print (\"Enter a positive number\")\n",
    "else:    \n",
    "    print(\"Log base 10 of\",a,\"is\", math.log(a) ) #log function\n",
    "    "
   ]
  },
  {
   "cell_type": "code",
   "execution_count": 69,
   "id": "800784fa",
   "metadata": {},
   "outputs": [
    {
     "name": "stdout",
     "output_type": "stream",
     "text": [
      "Enter number to print it cube sum : 4\n",
      "The sum of cubes of first  4 natural numbers = 100\n"
     ]
    }
   ],
   "source": [
    "#5. Write a Python Program for cube sum of first n natural numbers?\n",
    "\n",
    "# Python program to sum cube of natural numbers\n",
    "\n",
    "a = int(input(\"Enter number to print it cube sum : \"))\n",
    "\n",
    "sum = 0\n",
    "\n",
    "if a == 0: # 0 is not natural number\n",
    "    print(\"Enter a natural number 0, is not a natural number\")\n",
    "elif a < 1: # Validate for positive number   \n",
    "    print (\"Enter a positive number\")\n",
    "else:    \n",
    "    for i in range (1,a+1):\n",
    "        sum += (i**3) # Sum of cube of natural numbers\n",
    "    print(\"The sum of cubes of first \",a,\"natural numbers =\",sum)\n"
   ]
  }
 ],
 "metadata": {
  "kernelspec": {
   "display_name": "Python 3 (ipykernel)",
   "language": "python",
   "name": "python3"
  },
  "language_info": {
   "codemirror_mode": {
    "name": "ipython",
    "version": 3
   },
   "file_extension": ".py",
   "mimetype": "text/x-python",
   "name": "python",
   "nbconvert_exporter": "python",
   "pygments_lexer": "ipython3",
   "version": "3.9.12"
  }
 },
 "nbformat": 4,
 "nbformat_minor": 5
}
