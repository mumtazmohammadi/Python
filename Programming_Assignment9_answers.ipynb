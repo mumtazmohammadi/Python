{
 "cells": [
  {
   "cell_type": "code",
   "execution_count": 1,
   "id": "a2a0afd7",
   "metadata": {},
   "outputs": [
    {
     "name": "stdout",
     "output_type": "stream",
     "text": [
      "Enter the number : 75\n",
      "75 is not a Disarium number\n"
     ]
    }
   ],
   "source": [
    "#1. Write a Python program to check if the given number is a Disarium Number?\n",
    "\n",
    "#Python program to find out if input number is Disarium number or not\n",
    "num = int(input(\"Enter the number : \"))\n",
    "\n",
    "#Initilaize the sum\n",
    "sum = 0\n",
    "\n",
    "#Collect digits in a list\n",
    "digits = [int(x) for x in str(num)]\n",
    "\n",
    "#sum of power of digits to its position\n",
    "for i in range(0,int(len(digits))):\n",
    "    sum += digits[i]**(i+1)\n",
    "    \n",
    "if sum == num:\n",
    "    print(num,\"is a Disarium number\")\n",
    "else:\n",
    "    print(num,\"is not a Disarium number\")\n",
    "\n"
   ]
  },
  {
   "cell_type": "code",
   "execution_count": 2,
   "id": "bc2eda4d",
   "metadata": {},
   "outputs": [
    {
     "name": "stdout",
     "output_type": "stream",
     "text": [
      "Disarium numbers between 1 and 100 are :\n",
      "1\n",
      "2\n",
      "3\n",
      "4\n",
      "5\n",
      "6\n",
      "7\n",
      "8\n",
      "9\n",
      "89\n"
     ]
    }
   ],
   "source": [
    "#2. Write a Python program to print all disarium numbers between 1 to 100?\n",
    "\n",
    "#Python program to print disarium numbers between 1 and 100\n",
    "def Length(num):  \n",
    "    \"\"\"Find length of number\"\"\"\n",
    "    length = 0    \n",
    "    while(num != 0):                    \n",
    "        length = length + 1    \n",
    "        num = num//10    \n",
    "    return length    \n",
    "     \n",
    "#To find the number if its disarium or not\n",
    "def disarium(num):\n",
    "    \"\"\"Disarium number checking logic \"\"\"\n",
    "    rem = sum = len = 0    \n",
    "    len = Length(num)     # checking the number is disarium or not\n",
    "        \n",
    "    while(num > 0):    \n",
    "        rem = num%10   \n",
    "        #Accrue  the sum of digits to the power of thier positions\n",
    "        sum = sum + (rem**len)   \n",
    "        num = num//10   \n",
    "        len = len - 1    \n",
    "    return sum   \n",
    "         \n",
    "     \n",
    " # printing disarium numbers\n",
    "print(\"Disarium numbers between 1 and 100 are :\");    \n",
    "for i in range(1,100):          \n",
    "    result = disarium(i) \n",
    "        \n",
    "    if(result == i):    \n",
    "        print(i) "
   ]
  },
  {
   "cell_type": "code",
   "execution_count": 3,
   "id": "78701521",
   "metadata": {},
   "outputs": [
    {
     "name": "stdout",
     "output_type": "stream",
     "text": [
      "Enter number to check if its Happy number or not : 391\n",
      "391 is a Happy number \n"
     ]
    }
   ],
   "source": [
    "# 3. Write a Python program to check if the given number is Happy Number?\n",
    "\n",
    "\n",
    "num = int(input(\"Enter number to check if its Happy number or not : \"))\n",
    "\n",
    "number = num\n",
    "\n",
    "sum = 0\n",
    "while True:\n",
    "    sum= 0\n",
    "    digits = [int(x) for x in str(num)]\n",
    "    \n",
    "    #Summate the square of each digit \n",
    "    for i in range(0,len(digits)):\n",
    "        sum += digits[i]**2\n",
    "        \n",
    "    num=sum\n",
    "    \n",
    "    #break loop if desired sum is arrived \n",
    "    if sum > 1  and sum < 10:\n",
    "        break\n",
    "    if sum == 1:\n",
    "        break\n",
    "        \n",
    "#Print check of Happy number    \n",
    "if sum == 1:\n",
    "    print(number,\"is a Happy number \")\n",
    "else:\n",
    "    print(number,\"is not a Happy number \")\n"
   ]
  },
  {
   "cell_type": "code",
   "execution_count": 22,
   "id": "0268c6cf",
   "metadata": {},
   "outputs": [
    {
     "name": "stdout",
     "output_type": "stream",
     "text": [
      "Please enter lowest range : 1\n",
      "Please enter highest range : 100\n",
      "Happy numbers within range 1 and 100 are:\n",
      "1\n",
      "7\n",
      "10\n",
      "13\n",
      "19\n",
      "23\n",
      "28\n",
      "31\n",
      "32\n",
      "44\n",
      "49\n",
      "68\n",
      "70\n",
      "79\n",
      "82\n",
      "86\n",
      "91\n",
      "94\n",
      "97\n",
      "100\n"
     ]
    }
   ],
   "source": [
    "# 4.  Write a Python program to print all happy numbers between 1 and 100?\n",
    "\n",
    "#Function to check for happy number\n",
    "\n",
    "def hnum(num):\n",
    "  \"\"\" Check if number is happy number or not \"\"\"\n",
    "  remainder = 0\n",
    "  happy_num = 0\n",
    "  \n",
    "  while(num > 0):    \n",
    "    rem = num%10  #calculate remainder\n",
    "    happy_num = happy_num + (rem*rem) \n",
    "    num = num//10;\n",
    "  return happy_num;\n",
    "\n",
    "#Enter the inputs\n",
    "lower = int(input(\"Please enter lowest range : \"))\n",
    "upper = int(input(\"Please enter highest range : \"))\n",
    "\n",
    "#Now the output is printed via a loop\n",
    "print(\"Happy numbers within range\", lower,\"and\", upper, \"are:\")\n",
    "\n",
    "\n",
    "for i in range(lower,upper+1):\n",
    "  \n",
    "  happy_num = i\n",
    "  while(happy_num != 1 and happy_num != 4):\n",
    "    happy_num = hnum(happy_num)\n",
    "    \n",
    "  #If the number has become 1 then its happy number  \n",
    "  if(happy_num == 1):\n",
    "    print(i)\n",
    "    "
   ]
  },
  {
   "cell_type": "code",
   "execution_count": 20,
   "id": "2f9f5954",
   "metadata": {},
   "outputs": [
    {
     "name": "stdout",
     "output_type": "stream",
     "text": [
      "Enter number : 23\n",
      "23 is not a Harshad number\n"
     ]
    }
   ],
   "source": [
    "#5. Write a Python program to determine whether the given number is a Harshad Number?\n",
    "\n",
    "#Enter number to be checked\n",
    "num = int(input(\"Enter number : \"))\n",
    "\n",
    "#Initialise sum\n",
    "sum = 0\n",
    "\n",
    "#storing integer in list\n",
    "digits = [int(x) for x in str(num)]\n",
    "\n",
    "#Loop through to save sum of digits\n",
    "for i in range(0,int(len(digits))):\n",
    "    sum += digits[i]\n",
    "    \n",
    "#If the number is divisible by sum of digits its Harshad number  \n",
    "if num%sum == 0:\n",
    "    print(num,\"is a Harshad number\")\n",
    "else:\n",
    "    print(num,\"is not a Harshad number\")"
   ]
  },
  {
   "cell_type": "code",
   "execution_count": 19,
   "id": "fe89de01",
   "metadata": {},
   "outputs": [
    {
     "name": "stdout",
     "output_type": "stream",
     "text": [
      "Enter lower range  : 1\n",
      "Enter higher range : 100\n",
      "2\n",
      "6\n",
      "12\n",
      "20\n",
      "30\n",
      "42\n",
      "56\n",
      "72\n",
      "90\n"
     ]
    }
   ],
   "source": [
    "#6. Write a Python program to print all pronic numbers between 1 and 100?\n",
    "\n",
    "#Input lower and higher range\n",
    "num1 = int(input(\"Enter lower range  : \"))\n",
    "num2 = int(input(\"Enter higher range : \"))\n",
    "\n",
    "#Loop through to collect n(n+1)\n",
    "for i in range(num1,num2+1):\n",
    "    sum = i*(i+1)\n",
    "    if sum < num2:\n",
    "       #Print the pronic number\n",
    "       print (sum)\n",
    "       \n"
   ]
  }
 ],
 "metadata": {
  "kernelspec": {
   "display_name": "Python 3 (ipykernel)",
   "language": "python",
   "name": "python3"
  },
  "language_info": {
   "codemirror_mode": {
    "name": "ipython",
    "version": 3
   },
   "file_extension": ".py",
   "mimetype": "text/x-python",
   "name": "python",
   "nbconvert_exporter": "python",
   "pygments_lexer": "ipython3",
   "version": "3.9.12"
  }
 },
 "nbformat": 4,
 "nbformat_minor": 5
}
