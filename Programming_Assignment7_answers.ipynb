{
 "cells": [
  {
   "cell_type": "code",
   "execution_count": 4,
   "id": "60e05360",
   "metadata": {},
   "outputs": [
    {
     "name": "stdout",
     "output_type": "stream",
     "text": [
      "Sum of array is 10\n"
     ]
    }
   ],
   "source": [
    "# 1. Write a Python Program to find sum of array?\n",
    "\n",
    "# Array listed below\n",
    "array = [1,2,3,4]\n",
    "\n",
    "sumarray = sum(array) #inbuilt Python function to find sum of list/tuple etc\n",
    "\n",
    "print(\"Sum of array is\",sumarray)\n"
   ]
  },
  {
   "cell_type": "code",
   "execution_count": 14,
   "id": "e4aa5835",
   "metadata": {},
   "outputs": [
    {
     "name": "stdout",
     "output_type": "stream",
     "text": [
      "The largest element in the array is 440\n"
     ]
    }
   ],
   "source": [
    "# 2.  Write a Python Program to find largest element in an array?\n",
    "\n",
    "# Array listed below\n",
    "array = [5,2,10,440]\n",
    "\n",
    "#sort array in ascendihg order\n",
    "array.sort\n",
    "print (\"The largest element in the array is\",array[3])\n"
   ]
  },
  {
   "cell_type": "code",
   "execution_count": 30,
   "id": "4b392bc6",
   "metadata": {},
   "outputs": [
    {
     "name": "stdout",
     "output_type": "stream",
     "text": [
      "Enter number of steps to rotate the array :4\n",
      "The rotated array is [4, 2, 9, 1, 5, 6, 8]\n"
     ]
    }
   ],
   "source": [
    "#3. Write a Python Program for array rotation?\n",
    "\n",
    "#Array listed below\n",
    "array = [1,5,6,8,4,2,9]\n",
    "\n",
    "def arrayrotate(array,step,length):\n",
    "    \"\"\"Array rotation with the step provided\"\"\"\n",
    "    array[:] = array[step:len(array)]+array[0:step]\n",
    "    return array\n",
    "\n",
    "step = int(input(\"Enter number of steps to rotate the array :\"))\n",
    "\n",
    "print(\"The rotated array is\",arrayrotate(array,step,len(array)))"
   ]
  },
  {
   "cell_type": "code",
   "execution_count": 35,
   "id": "5a52ec83",
   "metadata": {},
   "outputs": [
    {
     "name": "stdout",
     "output_type": "stream",
     "text": [
      "The rotated array is [4, 2, 9, 7, 1, 5, 6, 8]\n"
     ]
    }
   ],
   "source": [
    "#4. Write a Python Program to Split the array and add the first part to the end?\n",
    "\n",
    "#Array listed below\n",
    "array = [1,5,6,8,4,2,9,7]\n",
    "\n",
    "#Step measured to split the array\n",
    "step = int(len(array)/2)\n",
    "print(\"The rotated array is\",arrayrotate(array,step,len(array)))\n",
    "\n",
    "\n",
    "def arrayrotate(array,step,length):\n",
    "    \"\"\"Array split and first part added to end\"\"\"\n",
    "    array[:] = array[step:len(array)]+array[0:step]\n",
    "    return array\n",
    "\n"
   ]
  },
  {
   "cell_type": "code",
   "execution_count": 96,
   "id": "6c7cd7ca",
   "metadata": {},
   "outputs": [
    {
     "name": "stdout",
     "output_type": "stream",
     "text": [
      "Array is monotonic\n"
     ]
    }
   ],
   "source": [
    "#5. Write a Python Program to check if given array is Monotonic?\n",
    "\n",
    "#Python program to check if given array is monotonic or not\n",
    "array = [5,7,8,9,12]\n",
    "a = len(array)\n",
    "\n",
    "#Ascending or descending \n",
    "if all(array[i]<array[i+1] for i in range(0,a-1) or array[i]>array[i+1] for i in range(0,a-1)):\n",
    "   print(\"Array is monotonic\")\n",
    "else :\n",
    "   print(\"Array is not monotonic\")      \n"
   ]
  }
 ],
 "metadata": {
  "kernelspec": {
   "display_name": "Python 3 (ipykernel)",
   "language": "python",
   "name": "python3"
  },
  "language_info": {
   "codemirror_mode": {
    "name": "ipython",
    "version": 3
   },
   "file_extension": ".py",
   "mimetype": "text/x-python",
   "name": "python",
   "nbconvert_exporter": "python",
   "pygments_lexer": "ipython3",
   "version": "3.9.12"
  }
 },
 "nbformat": 4,
 "nbformat_minor": 5
}
