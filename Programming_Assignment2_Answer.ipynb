{
 "cells": [
  {
   "cell_type": "code",
   "execution_count": 24,
   "id": "a7310f3c",
   "metadata": {},
   "outputs": [
    {
     "name": "stdout",
     "output_type": "stream",
     "text": [
      "Value of 10 km in miles = 6.2139999999999995 miles\n"
     ]
    }
   ],
   "source": [
    "# 1. Write a Python program to convert kilometers to miles?\n",
    "\n",
    "#Program to convert kilometers to miles\n",
    "\n",
    "a = 10\n",
    "b = (a*0.6214) # 0.6214 is conversion factor to convert to miles\n",
    "\n",
    "print (\"Value of\", a , \"km in miles =\" , b, \"miles\" )\n",
    "\n",
    " "
   ]
  },
  {
   "cell_type": "code",
   "execution_count": 25,
   "id": "7635f7cd",
   "metadata": {},
   "outputs": [
    {
     "name": "stdout",
     "output_type": "stream",
     "text": [
      "Value of 40 °C is 104.0 °F\n"
     ]
    }
   ],
   "source": [
    "# 2. Write a Python program to convert Celsius to Fahrenheit?\n",
    "\n",
    "#Python program to convert celsius to Fahrenheit\n",
    "\n",
    "a = 40\n",
    "b = ((a *(9/5)) + 32) # Conversion from celsius to Fahrenheit\n",
    "\n",
    "print (\"Value of\", a ,\"°C\",\"is\", b, \"°F\" )\n",
    "\n"
   ]
  },
  {
   "cell_type": "code",
   "execution_count": 26,
   "id": "90fe1cfd",
   "metadata": {},
   "outputs": [
    {
     "name": "stdout",
     "output_type": "stream",
     "text": [
      "Enter year as number to print calendar: 2002\n",
      "Enter month as number to print calendar: 5\n",
      "      May 2002\n",
      "Mo Tu We Th Fr Sa Su\n",
      "       1  2  3  4  5\n",
      " 6  7  8  9 10 11 12\n",
      "13 14 15 16 17 18 19\n",
      "20 21 22 23 24 25 26\n",
      "27 28 29 30 31\n",
      "\n"
     ]
    }
   ],
   "source": [
    "# 3. Write a Python program to display calendar?\n",
    "\n",
    "# printing a calendar for the month and year entered\n",
    "\n",
    "import calendar  \n",
    "\n",
    "# Enter the month and year  \n",
    "year = int(input(\"Enter year as number to print calendar: \"))  \n",
    "month = int(input(\"Enter month as number to print calendar: \"))  \n",
    "  \n",
    "# display the calendar of the month and year entered\n",
    "\n",
    "print(calendar.month(year,month))  "
   ]
  },
  {
   "cell_type": "code",
   "execution_count": 27,
   "id": "9aafc209",
   "metadata": {},
   "outputs": [
    {
     "data": {
      "text/plain": [
       "153"
      ]
     },
     "execution_count": 27,
     "metadata": {},
     "output_type": "execute_result"
    }
   ],
   "source": [
    "# 4. Write a Python program to solve quadratic equation?\n",
    "\n",
    "# Python program to Solve quadratic equation\n",
    "\n",
    "\n",
    "def quadraticequation(a,b,c): \n",
    "    \"\"\"\"return value of quadratic equation ax2+bx+c\"\"\"\n",
    "    return lambda x: a**x+b*x+c #lambda function to return quadratic equation value\n",
    "y = quadraticequation(2,3,4)\n",
    "\n",
    "\n",
    "y(7)"
   ]
  },
  {
   "cell_type": "code",
   "execution_count": 29,
   "id": "fbbe0891",
   "metadata": {},
   "outputs": [
    {
     "name": "stdout",
     "output_type": "stream",
     "text": [
      "Enter first number to be swapped: 45\n",
      "Enter second number to be swapped: 30\n",
      "Value of first number now  :  30\n",
      "Value of Second number now :  45\n"
     ]
    }
   ],
   "source": [
    "# 5. Write a Python program to swap two variables without temp variable?\n",
    "\n",
    "# Swap two variables\n",
    "\n",
    "a = int(input(\"Enter first number to be swapped: \"))  \n",
    "b = int(input(\"Enter second number to be swapped: \"))  \n",
    "\n",
    "a , b = b, a #swapped without temp variable\n",
    "\n",
    "print (\"Value of first number now  : \",a)\n",
    "print (\"Value of Second number now : \",b)\n"
   ]
  },
  {
   "cell_type": "code",
   "execution_count": null,
   "id": "0128a45e",
   "metadata": {},
   "outputs": [],
   "source": []
  }
 ],
 "metadata": {
  "kernelspec": {
   "display_name": "Python 3 (ipykernel)",
   "language": "python",
   "name": "python3"
  },
  "language_info": {
   "codemirror_mode": {
    "name": "ipython",
    "version": 3
   },
   "file_extension": ".py",
   "mimetype": "text/x-python",
   "name": "python",
   "nbconvert_exporter": "python",
   "pygments_lexer": "ipython3",
   "version": "3.9.12"
  }
 },
 "nbformat": 4,
 "nbformat_minor": 5
}
