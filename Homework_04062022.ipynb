{
 "cells": [
  {
   "cell_type": "code",
   "execution_count": 13,
   "id": "a2e08de0",
   "metadata": {},
   "outputs": [],
   "source": [
    "def primenumbers(a,b):\n",
    "    \"\"\"This is a function to print prime numbers between a range\"\"\"\n",
    "    print (\"prime numbers between\" ,a , \"and \", b ,\"are:  \" )\n",
    "    for num in range (a,b+1):\n",
    "        if num > 1:\n",
    "            for i in range (2,num):\n",
    "                if num%i == 0 :\n",
    "                    break\n",
    "            else:\n",
    "                print (num)"
   ]
  },
  {
   "cell_type": "code",
   "execution_count": 14,
   "id": "b842f99a",
   "metadata": {},
   "outputs": [
    {
     "name": "stdout",
     "output_type": "stream",
     "text": [
      "prime numbers between 1 and  100 are:  \n",
      "2\n",
      "3\n",
      "5\n",
      "7\n",
      "11\n",
      "13\n",
      "17\n",
      "19\n",
      "23\n",
      "29\n",
      "31\n",
      "37\n",
      "41\n",
      "43\n",
      "47\n",
      "53\n",
      "59\n",
      "61\n",
      "67\n",
      "71\n",
      "73\n",
      "79\n",
      "83\n",
      "89\n",
      "97\n"
     ]
    }
   ],
   "source": [
    "primenumbers(1,100)"
   ]
  },
  {
   "cell_type": "code",
   "execution_count": 409,
   "id": "a3718902",
   "metadata": {},
   "outputs": [],
   "source": [
    "#function to do same work as listextend\n",
    "\n",
    "def listappend(*a):\n",
    "    \"\"\"Function to work similar to listextend\"\"\"\n",
    "    l = [1,2,3,4,5]\n",
    "    l[len(l)::] = [*a]\n",
    "    return l\n",
    "\n"
   ]
  },
  {
   "cell_type": "code",
   "execution_count": 410,
   "id": "a5ff254b",
   "metadata": {},
   "outputs": [
    {
     "data": {
      "text/plain": [
       "[1, 2, 3, 4, 5, 6, 7, 8, 9, 10, 'true', 12, 45, 999, 123, 12]"
      ]
     },
     "execution_count": 410,
     "metadata": {},
     "output_type": "execute_result"
    }
   ],
   "source": [
    "listappend(6,7,8,9,10,\"true\",12,45,999,123,12)"
   ]
  },
  {
   "cell_type": "code",
   "execution_count": 337,
   "id": "bad52420",
   "metadata": {},
   "outputs": [],
   "source": [
    "#function to do same work as listappend\n",
    "\n",
    "def listappend(a):\n",
    "    \"\"\"Function to work similar to listappend \"\"\"\n",
    "    l = [1,2,3,4,5]\n",
    "    y = [a]\n",
    "    for i in [len(y)]:\n",
    "        l[len(l)::] = y\n",
    "    return l\n"
   ]
  },
  {
   "cell_type": "code",
   "execution_count": 352,
   "id": "cbfc54b4",
   "metadata": {},
   "outputs": [
    {
     "data": {
      "text/plain": [
       "[1, 2, 3, 4, 5, 12]"
      ]
     },
     "execution_count": 352,
     "metadata": {},
     "output_type": "execute_result"
    }
   ],
   "source": [
    "listappend(12)"
   ]
  },
  {
   "cell_type": "code",
   "execution_count": 408,
   "id": "9e62b679",
   "metadata": {},
   "outputs": [
    {
     "name": "stdout",
     "output_type": "stream",
     "text": [
      "[1, 2, 3, 4, 5, 11, 20, 30]\n"
     ]
    }
   ],
   "source": [
    "#function to do same work as listextend\n",
    "\n",
    "def listextend(): \"\"\"Function to work similar to listextend \"\"\"\n",
    "\n",
    "l = [1,2,3,4,5]\n",
    "l.append(11)\n",
    "l.append(20)\n",
    "l.append(30)\n",
    "print (l)\n"
   ]
  },
  {
   "cell_type": "code",
   "execution_count": 255,
   "id": "90ecabc2",
   "metadata": {},
   "outputs": [],
   "source": [
    " #lambda function which can return a concatination of all the string that we will pass\n",
    "n = lambda a,b,c : a+b+c\n",
    "\n"
   ]
  },
  {
   "cell_type": "code",
   "execution_count": 256,
   "id": "d33a9219",
   "metadata": {},
   "outputs": [
    {
     "data": {
      "text/plain": [
       "'thisisfun'"
      ]
     },
     "execution_count": 256,
     "metadata": {},
     "output_type": "execute_result"
    }
   ],
   "source": [
    "n(\"this\",\"is\",\"fun\")"
   ]
  },
  {
   "cell_type": "code",
   "execution_count": 51,
   "id": "5b640e5c",
   "metadata": {},
   "outputs": [],
   "source": [
    "#lambda function which can return list of square of all the data between 1-100 \n",
    "y = lambda a: [i*i for i in range(1,a+1)]"
   ]
  },
  {
   "cell_type": "code",
   "execution_count": 52,
   "id": "48e70240",
   "metadata": {},
   "outputs": [
    {
     "data": {
      "text/plain": [
       "[1,\n",
       " 4,\n",
       " 9,\n",
       " 16,\n",
       " 25,\n",
       " 36,\n",
       " 49,\n",
       " 64,\n",
       " 81,\n",
       " 100,\n",
       " 121,\n",
       " 144,\n",
       " 169,\n",
       " 196,\n",
       " 225,\n",
       " 256,\n",
       " 289,\n",
       " 324,\n",
       " 361,\n",
       " 400,\n",
       " 441,\n",
       " 484,\n",
       " 529,\n",
       " 576,\n",
       " 625,\n",
       " 676,\n",
       " 729,\n",
       " 784,\n",
       " 841,\n",
       " 900,\n",
       " 961,\n",
       " 1024,\n",
       " 1089,\n",
       " 1156,\n",
       " 1225,\n",
       " 1296,\n",
       " 1369,\n",
       " 1444,\n",
       " 1521,\n",
       " 1600,\n",
       " 1681,\n",
       " 1764,\n",
       " 1849,\n",
       " 1936,\n",
       " 2025,\n",
       " 2116,\n",
       " 2209,\n",
       " 2304,\n",
       " 2401,\n",
       " 2500,\n",
       " 2601,\n",
       " 2704,\n",
       " 2809,\n",
       " 2916,\n",
       " 3025,\n",
       " 3136,\n",
       " 3249,\n",
       " 3364,\n",
       " 3481,\n",
       " 3600,\n",
       " 3721,\n",
       " 3844,\n",
       " 3969,\n",
       " 4096,\n",
       " 4225,\n",
       " 4356,\n",
       " 4489,\n",
       " 4624,\n",
       " 4761,\n",
       " 4900,\n",
       " 5041,\n",
       " 5184,\n",
       " 5329,\n",
       " 5476,\n",
       " 5625,\n",
       " 5776,\n",
       " 5929,\n",
       " 6084,\n",
       " 6241,\n",
       " 6400,\n",
       " 6561,\n",
       " 6724,\n",
       " 6889,\n",
       " 7056,\n",
       " 7225,\n",
       " 7396,\n",
       " 7569,\n",
       " 7744,\n",
       " 7921,\n",
       " 8100,\n",
       " 8281,\n",
       " 8464,\n",
       " 8649,\n",
       " 8836,\n",
       " 9025,\n",
       " 9216,\n",
       " 9409,\n",
       " 9604,\n",
       " 9801,\n",
       " 10000]"
      ]
     },
     "execution_count": 52,
     "metadata": {},
     "output_type": "execute_result"
    }
   ],
   "source": [
    "y(100)"
   ]
  },
  {
   "cell_type": "code",
   "execution_count": 100,
   "id": "c3c6996f",
   "metadata": {},
   "outputs": [
    {
     "name": "stdout",
     "output_type": "stream",
     "text": [
      "even\n"
     ]
    }
   ],
   "source": [
    "#10 Different different example of lambda function with a choice of your taks\n",
    "#example 1\n",
    "\n",
    "#lambda function to find if number is even or odd\n",
    "even = lambda x, y: print (\"even\") if x%2==0 else print (\"odd\") \n",
    "even (100,even)"
   ]
  },
  {
   "cell_type": "code",
   "execution_count": 78,
   "id": "302ee578",
   "metadata": {},
   "outputs": [
    {
     "data": {
      "text/plain": [
       "1"
      ]
     },
     "execution_count": 78,
     "metadata": {},
     "output_type": "execute_result"
    }
   ],
   "source": [
    "#example 2\n",
    "#Lambda function to find find factorial of a number\n",
    "\n",
    "factorial = lambda x, f: x*(f(x-1, f)) if x > 1 else 1\n",
    "factorial(1,factorial)"
   ]
  },
  {
   "cell_type": "code",
   "execution_count": 106,
   "id": "33a22a8d",
   "metadata": {},
   "outputs": [
    {
     "name": "stdout",
     "output_type": "stream",
     "text": [
      "2020  is a leap year\n"
     ]
    }
   ],
   "source": [
    "#example 3\n",
    "#Lambda function to find if given year is leap year or not\n",
    "Leap = lambda x, y: print (x,\" is a leap year\") if x%4==0 else print (x,\"is not a leap year\") \n",
    "Leap (2020,Leap)"
   ]
  },
  {
   "cell_type": "code",
   "execution_count": 113,
   "id": "0b087eaf",
   "metadata": {},
   "outputs": [
    {
     "name": "stdout",
     "output_type": "stream",
     "text": [
      "malayalam is a palindrome\n"
     ]
    }
   ],
   "source": [
    "#Example 4\n",
    "#Lambda function to find string is palindrome or not\n",
    "Palindrome = lambda x,y: print (x, \"is a palindrome\") if (x == x[::-1]) else print (x,\"is not a palindrome\")\n",
    "Palindrome (\"malayalam\",Palindrome)"
   ]
  },
  {
   "cell_type": "code",
   "execution_count": 182,
   "id": "6172c41f",
   "metadata": {},
   "outputs": [
    {
     "data": {
      "text/plain": [
       "0.5"
      ]
     },
     "execution_count": 182,
     "metadata": {},
     "output_type": "execute_result"
    }
   ],
   "source": [
    "#Example 5\n",
    "#Lambda function to find division of two numbers\n",
    "Odd = lambda x, y: (x/y) \n",
    "Odd(1,2)"
   ]
  },
  {
   "cell_type": "code",
   "execution_count": 128,
   "id": "f0200946",
   "metadata": {},
   "outputs": [
    {
     "data": {
      "text/plain": [
       "'High'"
      ]
     },
     "execution_count": 128,
     "metadata": {},
     "output_type": "execute_result"
    }
   ],
   "source": [
    "#Example 6\n",
    "\n",
    "#Lambda function to find a status if < 5000 low else high\n",
    "find_status= lambda a: 'Low' if (a<5000)  else 'High'\n",
    "find_status (10000)"
   ]
  },
  {
   "cell_type": "code",
   "execution_count": 190,
   "id": "da4a12a5",
   "metadata": {},
   "outputs": [
    {
     "data": {
      "text/plain": [
       "729"
      ]
     },
     "execution_count": 190,
     "metadata": {},
     "output_type": "execute_result"
    }
   ],
   "source": [
    "#Example 7\n",
    "\n",
    "#Lambda function to find cube root of number given\n",
    "a = lambda a: pow(a,3)\n",
    "a(9)"
   ]
  },
  {
   "cell_type": "code",
   "execution_count": 203,
   "id": "d020fa7e",
   "metadata": {},
   "outputs": [
    {
     "data": {
      "text/plain": [
       "('new', 'time', 'rest', 'is', 'next', 'new', 'time', 'rest', 'is', 'next')"
      ]
     },
     "execution_count": 203,
     "metadata": {},
     "output_type": "execute_result"
    }
   ],
   "source": [
    "#Example 8\n",
    "#Lambda function to returns strings that are doubled\n",
    "\n",
    "a = lambda *a: (a)*2\n",
    "a(\"new\",\"time\",\"rest\",\"is\",\"next\")"
   ]
  },
  {
   "cell_type": "code",
   "execution_count": 219,
   "id": "f20e8640",
   "metadata": {},
   "outputs": [
    {
     "data": {
      "text/plain": [
       "153"
      ]
     },
     "execution_count": 219,
     "metadata": {},
     "output_type": "execute_result"
    }
   ],
   "source": [
    "#Example 9\n",
    "\n",
    "#lambda function to return quadratic equation value\n",
    "def quadraticequation(a,b,c):\n",
    "    \"\"\"\"return value of quadratic equation ax2+bx+c\"\"\"\n",
    "    return lambda x: a**x+b*x+c\n",
    "y = quadraticequation(2,3,4)\n",
    "\n",
    "\n",
    "y(7)"
   ]
  },
  {
   "cell_type": "code",
   "execution_count": 226,
   "id": "bfc6a2c7",
   "metadata": {},
   "outputs": [],
   "source": [
    "#Example 10\n",
    "# Average of 3 numbers\n",
    "\n",
    "x = lambda x,y,z: (x+y+z)/3\n"
   ]
  },
  {
   "cell_type": "code",
   "execution_count": 225,
   "id": "a60865d6",
   "metadata": {},
   "outputs": [
    {
     "data": {
      "text/plain": [
       "4.666666666666667"
      ]
     },
     "execution_count": 225,
     "metadata": {},
     "output_type": "execute_result"
    }
   ],
   "source": [
    "x(9,2,3)"
   ]
  },
  {
   "cell_type": "code",
   "execution_count": 246,
   "id": "1f4c16bf",
   "metadata": {},
   "outputs": [],
   "source": [
    "def readfile (Testfile):\n",
    "    f = open(\"C:\\\\personal\\Mumtaz\\Data science\\Testfile.txt\")\n",
    "    print (f.read())\n",
    "    f.close()"
   ]
  },
  {
   "cell_type": "code",
   "execution_count": 421,
   "id": "6a6959b0",
   "metadata": {},
   "outputs": [
    {
     "name": "stdout",
     "output_type": "stream",
     "text": [
      "This is test file to do read operation of a file in python assignment dated 05062022\n"
     ]
    }
   ],
   "source": [
    "readfile(\"Testfile\")"
   ]
  },
  {
   "cell_type": "code",
   "execution_count": 419,
   "id": "7845dfce",
   "metadata": {},
   "outputs": [],
   "source": [
    "#function to do same work as pop\n",
    "\n",
    "def popfunction(*a):\n",
    "    \"\"\"This function is to behave like pop function without using pop function\"\"\"\n",
    "    m = [*a]\n",
    "    l = m[0:len(m)-1]\n",
    "    return l\n"
   ]
  },
  {
   "cell_type": "code",
   "execution_count": 420,
   "id": "aa0f0933",
   "metadata": {},
   "outputs": [
    {
     "data": {
      "text/plain": [
       "[5, 6, 7, 8, 9, 10, 11, 12, 13, 14]"
      ]
     },
     "execution_count": 420,
     "metadata": {},
     "output_type": "execute_result"
    }
   ],
   "source": [
    "popfunction (5,6,7,8,9,10,11,12,13,14,15)"
   ]
  },
  {
   "cell_type": "code",
   "execution_count": null,
   "id": "128f30f3",
   "metadata": {},
   "outputs": [],
   "source": []
  }
 ],
 "metadata": {
  "kernelspec": {
   "display_name": "Python 3 (ipykernel)",
   "language": "python",
   "name": "python3"
  },
  "language_info": {
   "codemirror_mode": {
    "name": "ipython",
    "version": 3
   },
   "file_extension": ".py",
   "mimetype": "text/x-python",
   "name": "python",
   "nbconvert_exporter": "python",
   "pygments_lexer": "ipython3",
   "version": "3.9.12"
  }
 },
 "nbformat": 4,
 "nbformat_minor": 5
}
