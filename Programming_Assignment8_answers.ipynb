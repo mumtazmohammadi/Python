{
 "cells": [
  {
   "cell_type": "code",
   "execution_count": 72,
   "id": "b8f15339",
   "metadata": {},
   "outputs": [
    {
     "name": "stdout",
     "output_type": "stream",
     "text": [
      "[10, 10, 10]\n",
      "[10, 10, 10]\n",
      "[10, 10, 10]\n"
     ]
    }
   ],
   "source": [
    "#1. Write a Python Program to Add Two Matrices?\n",
    "\n",
    "#First matrix\n",
    "x = [[1,2,3],\n",
    "     [4,5,6],\n",
    "    [7,8,9]]\n",
    "\n",
    "#Second matrix\n",
    "y = [[9,8,7],\n",
    "     [6,5,4],\n",
    "    [3,2,1]]\n",
    "\n",
    "#Initialise result matrix\n",
    "result = [[0,0,0],\n",
    "          [0,0,0],\n",
    "          [0,0,0]]\n",
    "\n",
    "#Adding matrices\n",
    "for i in range (0,len(x)):\n",
    "    for j in range (len(x[0])):\n",
    "        result[i][j] = x[i][j] + y[i][j]\n",
    "        \n",
    "for k in result:\n",
    "    print (k)"
   ]
  },
  {
   "cell_type": "code",
   "execution_count": 71,
   "id": "47dd459a",
   "metadata": {},
   "outputs": [
    {
     "name": "stdout",
     "output_type": "stream",
     "text": [
      "[9, 16, 21]\n",
      "[24, 25, 24]\n",
      "[21, 16, 9]\n"
     ]
    }
   ],
   "source": [
    "#2. Write a Python Program to Multiply Two Matrices?\n",
    "\n",
    "#First matrix\n",
    "x = [[1,2,3],\n",
    "     [4,5,6],\n",
    "    [7,8,9]]\n",
    "\n",
    "#Second matrix\n",
    "y = [[9,8,7],\n",
    "     [6,5,4],\n",
    "    [3,2,1]]\n",
    "\n",
    "#Initialise result matrix\n",
    "result = [[0,0,0],\n",
    "          [0,0,0],\n",
    "          [0,0,0]]\n",
    "\n",
    "#multiplying matrices\n",
    "for i in range (0,len(x)):\n",
    "    for j in range (len(x[0])):\n",
    "        result[i][j] = x[i][j] * y[i][j]\n",
    "        \n",
    "for k in result:\n",
    "    print (k)"
   ]
  },
  {
   "cell_type": "code",
   "execution_count": 70,
   "id": "01d13386",
   "metadata": {},
   "outputs": [
    {
     "name": "stdout",
     "output_type": "stream",
     "text": [
      "[1, 4, 7]\n",
      "[2, 5, 8]\n",
      "[3, 6, 9]\n"
     ]
    }
   ],
   "source": [
    "#3. Write a Python Program to Transpose a Matrix?\n",
    "\n",
    "#Matrix to be transposed\n",
    "x = [[1,2,3],\n",
    "     [4,5,6],\n",
    "    [7,8,9]]\n",
    "\n",
    "#Initialise list\n",
    "result = [[0,0,0],\n",
    "          [0,0,0],\n",
    "          [0,0,0]]\n",
    "\n",
    "#Transposing the matrix\n",
    "for i in range (0,len(x)):\n",
    "    for j in range (len(x[0])):\n",
    "        result[i][j] = x[j][i]\n",
    "  \n",
    "for k in result:\n",
    "    print (k)"
   ]
  },
  {
   "cell_type": "code",
   "execution_count": 68,
   "id": "f5bf7454",
   "metadata": {},
   "outputs": [
    {
     "name": "stdout",
     "output_type": "stream",
     "text": [
      "Enter the string to be sorted alphabetical orderwise    :  This is a new code to be Executed\n",
      "\n",
      " The sorted string in alphabetical order is   :           abccddeeeEeehiinoossTttuwx\n"
     ]
    }
   ],
   "source": [
    "#4. Write a Python Program to sort words in alphabetical order\n",
    "\n",
    "#Python program to sort all words in a string in alphabetical order\n",
    "String = (input(\"Enter the string to be sorted alphabetical orderwise    :  \")) \n",
    "\n",
    "#Sort the words based on alpabetical order after changing all words to lower case\n",
    "S1 = ''.join(sorted(String,key=str.lower))\n",
    "\n",
    "print(\"\\n The sorted string in alphabetical order is   :   \",S1)\n"
   ]
  },
  {
   "cell_type": "code",
   "execution_count": 69,
   "id": "58b58073",
   "metadata": {},
   "outputs": [
    {
     "name": "stdout",
     "output_type": "stream",
     "text": [
      "Enter the string to remove its punctuation :We are thrilled to debut an enhanced #TheSmartTalk! A collaboration between the  @NationalPTA  and Norton, the free, fun online tool helps families have important conversations about digital safety. Learn more on our blog & make sure you check it out: \n",
      "\n",
      "Corrected string with punctuation is :  We are thrilled to debut an enhanced TheSmartTalk A collaboration between the  NationalPTA  and Norton the free fun online tool helps families have important conversations about digital safety Learn more on our blog  make sure you check it out \n"
     ]
    }
   ],
   "source": [
    "# 5. Write a Python Program to Remove Punctuation From a String?\n",
    "\n",
    "#Python code to remove punctuation in string\n",
    "punc = str(input(\"Enter the string to remove its punctuation :\"))\n",
    "\n",
    "#Punctuation symbols \n",
    "punc_list = \"\"\".!@#$%^&*`()_+{};’-',[]\\/:''\"\"<>?\"\"\"\n",
    "\n",
    "for i in  punc:\n",
    "    if i in punc_list:\n",
    "       punc = punc.replace(i,\"\")    #Remove punctuation\n",
    "\n",
    "print(\"\\nCorrected string with punctuation is : \",punc)\n"
   ]
  }
 ],
 "metadata": {
  "kernelspec": {
   "display_name": "Python 3 (ipykernel)",
   "language": "python",
   "name": "python3"
  },
  "language_info": {
   "codemirror_mode": {
    "name": "ipython",
    "version": 3
   },
   "file_extension": ".py",
   "mimetype": "text/x-python",
   "name": "python",
   "nbconvert_exporter": "python",
   "pygments_lexer": "ipython3",
   "version": "3.9.12"
  }
 },
 "nbformat": 4,
 "nbformat_minor": 5
}
